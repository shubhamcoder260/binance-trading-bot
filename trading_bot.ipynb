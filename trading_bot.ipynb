{
 "cells": [
  {
   "cell_type": "code",
   "execution_count": 2,
   "id": "c903e71c-21e7-4bd7-82f6-cfd25ca8de24",
   "metadata": {},
   "outputs": [],
   "source": [
    "!pip install python-binance --quiet\n",
    "\n",
    "import logging\n",
    "from binance.client import Client\n",
    "from binance.enums import *\n"
   ]
  },
  {
   "cell_type": "code",
   "execution_count": 4,
   "id": "4c6ec58c-a88e-4075-8423-0c9000b37b23",
   "metadata": {},
   "outputs": [],
   "source": [
    "import logging\n",
    "from binance import Client\n",
    "\n",
    "# Configure logging\n",
    "logging.basicConfig(filename='trading_bot.log',\n",
    "                    level=logging.INFO,\n",
    "                    format='%(asctime)s - %(levelname)s - %(message)s')\n",
    "\n",
    "class BasicBot:\n",
    "    def __init__(self, api_key, api_secret, testnet=True):\n",
    "        self.client = Client(api_key, api_secret)\n",
    "        if testnet:\n",
    "            self.client.FUTURES_URL = 'https://testnet.binancefuture.com/fapi'\n",
    "        logging.info(\"Initialized Binance Futures Testnet client\")\n",
    "\n",
    "    def place_order(self, symbol, side, order_type, quantity, price=None):\n",
    "        try:\n",
    "            order_params = {\n",
    "                'symbol': symbol,\n",
    "                'side': side.upper(),\n",
    "                'type': order_type.upper(),\n",
    "                'quantity': quantity\n",
    "            }\n",
    "\n",
    "            if order_type.upper() == \"LIMIT\":\n",
    "                if price is None:\n",
    "                    raise ValueError(\"Limit order requires a price.\")\n",
    "                order_params['price'] = price\n",
    "\n",
    "            logging.info(f\"[SIMULATION] Would place order with: {order_params}\")\n",
    "\n",
    "            # Simulated fake response to avoid real API call and geo-block\n",
    "            fake_response = {\n",
    "                'symbol': symbol,\n",
    "                'side': side.upper(),\n",
    "                'type': order_type.upper(),\n",
    "                'quantity': quantity,\n",
    "                'price': price if price else \"market_price\",\n",
    "                'status': \"FILLED\",\n",
    "                'simulated': True\n",
    "            }\n",
    "\n",
    "            logging.info(f\"[SIMULATION] Order response: {fake_response}\")\n",
    "            return fake_response\n",
    "\n",
    "        except Exception as e:\n",
    "            logging.error(f\"[SIMULATION] Error placing order: {e}\")\n",
    "            return None\n"
   ]
  },
  {
   "cell_type": "code",
   "execution_count": 5,
   "id": "f9aa5b08-0723-4ed6-bf78-230886ce4311",
   "metadata": {},
   "outputs": [
    {
     "name": "stdin",
     "output_type": "stream",
     "text": [
      "Enter your Binance Testnet API key:  MSTTGPhw0VcmkmZts8EuNRRNMhHDsttegA9nNJjeJkCVIqb2wamPi34c2ULRT9IO\n",
      "Enter your Binance Testnet API secret:  DaV5a4pA4MUUkdOv43WyT3NfKhASJYptYoCbryecs6QlFhijeNznmivaoDIzfZkS\n",
      "Enter trading pair symbol (e.g., BTCUSDT):  BTCUSDT\n",
      "Enter side (buy/sell):  buy\n",
      "Enter order type (MARKET/LIMIT):  MARKET\n",
      "Enter quantity:  3\n"
     ]
    },
    {
     "name": "stdout",
     "output_type": "stream",
     "text": [
      " Order placed successfully!\n",
      "{'symbol': 'BTCUSDT', 'side': 'BUY', 'type': 'MARKET', 'quantity': 3.0, 'price': 'market_price', 'status': 'FILLED', 'simulated': True}\n"
     ]
    }
   ],
   "source": [
    "API_KEY = input(\"Enter your Binance Testnet API key: \").strip()\n",
    "API_SECRET = input(\"Enter your Binance Testnet API secret: \").strip()\n",
    "\n",
    "symbol = input(\"Enter trading pair symbol (e.g., BTCUSDT): \").strip().upper()\n",
    "side = input(\"Enter side (buy/sell): \").strip().lower()\n",
    "order_type = input(\"Enter order type (MARKET/LIMIT): \").strip().upper()\n",
    "quantity = float(input(\"Enter quantity: \").strip())\n",
    "\n",
    "price = None\n",
    "if order_type == \"LIMIT\":\n",
    "    price = float(input(\"Enter limit price: \").strip())\n",
    "\n",
    "\n",
    "# Initialize the trading bot with your API credentials\n",
    "bot = BasicBot(API_KEY, API_SECRET)\n",
    "\n",
    "# Place the order with the collected inputs\n",
    "order = bot.place_order(symbol, side, order_type, quantity, price)\n",
    "\n",
    "# Display the result\n",
    "if order:\n",
    "    print(\" Order placed successfully!\")\n",
    "    print(order)\n",
    "else:\n",
    "    print(\" Order failed. Check 'trading_bot.log' for details.\")\n"
   ]
  }
 ],
 "metadata": {
  "kernelspec": {
   "display_name": "Python 3 (ipykernel)",
   "language": "python",
   "name": "python3"
  },
  "language_info": {
   "codemirror_mode": {
    "name": "ipython",
    "version": 3
   },
   "file_extension": ".py",
   "mimetype": "text/x-python",
   "name": "python",
   "nbconvert_exporter": "python",
   "pygments_lexer": "ipython3",
   "version": "3.9.19"
  }
 },
 "nbformat": 4,
 "nbformat_minor": 5
}
